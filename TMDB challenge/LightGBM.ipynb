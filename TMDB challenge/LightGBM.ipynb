{
  "cells": [
    {
      "metadata": {
        "_uuid": "8f2839f25d086af736a60e9eeb907d3b93b6e0e5",
        "_cell_guid": "b1076dfc-b9ad-4769-8c92-a6c4dae69d19",
        "trusted": true
      },
      "cell_type": "code",
      "source": "# This Python 3 environment comes with many helpful analytics libraries installed\n# It is defined by the kaggle/python docker image: https://github.com/kaggle/docker-python\n# For example, here's several helpful packages to load in \n\nimport numpy as np # linear algebra\nimport pandas as pd # data processing, CSV file I/O (e.g. pd.read_csv)\nimport matplotlib.pyplot as plt\nimport seaborn as sn\n\n# Input data files are available in the \"../input/\" directory.\n# For example, running this (by clicking run or pressing Shift+Enter) will list the files in the input directory\n\nfrom subprocess import check_output\nprint(check_output([\"ls\", \"../input\"]).decode(\"utf8\"))\n\nimport warnings\nwarnings.filterwarnings('ignore')\n\n# Any results you write to the current directory are saved as output.",
      "execution_count": null,
      "outputs": []
    },
    {
      "metadata": {
        "_cell_guid": "79c7e3d0-c299-4dcb-8224-4455121ee9b0",
        "_uuid": "d629ff2d2480ee46fbb7e2d37f6b5fab8052498a",
        "trusted": true
      },
      "cell_type": "code",
      "source": "df = pd.read_csv('../input/train.csv', parse_dates=[\"release_date\"])\n#df = df.dropna()\ndf.shape\ntest = pd.read_csv('../input/test.csv', parse_dates=[\"release_date\"])",
      "execution_count": null,
      "outputs": []
    },
    {
      "metadata": {
        "trusted": true,
        "_uuid": "b26bca0415b5b3a840a3156cbba20d770e8d35c6"
      },
      "cell_type": "code",
      "source": "df.corr()",
      "execution_count": null,
      "outputs": []
    },
    {
      "metadata": {
        "trusted": true,
        "_uuid": "baa1c812403c7139e510f07903fb44c6b4fb9e56"
      },
      "cell_type": "code",
      "source": "#sn.heatmap(df.corr(),cmap = 'RdYlBu',annot=True)",
      "execution_count": null,
      "outputs": []
    },
    {
      "metadata": {
        "trusted": true,
        "_uuid": "59c179bb3eac66870e840ca622416e07746aae84"
      },
      "cell_type": "code",
      "source": "df.columns",
      "execution_count": null,
      "outputs": []
    },
    {
      "metadata": {
        "trusted": true
      },
      "cell_type": "code",
      "source": "\ndf['year'] = df['release_date'].dt.year\n#data['day'] = data['release_date'].dt.day\ndf['month'] = df['release_date'].dt.month\ndf['release_dayofweek'] = df['release_date'].dt.dayofweek\ndf['release_quarter'] = df['release_date'].dt.quarter\ndf['belongs_to_collection'] = df['belongs_to_collection'].apply(lambda x: isinstance(x, str))\ndf['tagline'] = df['tagline'].apply(lambda x: isinstance(x, str))\ndf['homepage'] = df['homepage'].apply(lambda x: isinstance(x, str))\ndf['runtime'].fillna(df['runtime'].mean(), inplace=True)\ndf.loc[df['year'] > 2018, 'year'] = df.loc[df['year'] > 2018, 'year'].apply(lambda x: x - 100)\ndf['_budget_year_ratio'] = df['budget']/(df['year']*df['year'])\ndf.head()",
      "execution_count": null,
      "outputs": []
    },
    {
      "metadata": {
        "trusted": true,
        "_uuid": "8c08c5d05b6b3659d892be626a2c5d1a4b40a370"
      },
      "cell_type": "code",
      "source": "from sklearn.model_selection import train_test_split\n\ny_val = df.revenue\nY= y_val.apply(np.log10)\nfeat_movie  = ['_budget_year_ratio','popularity','runtime']\nfeat = df[feat_movie]\nfeat.runtime = pd.get_dummies(feat.runtime)\nprint(feat.isnull().sum())\nX_train, X_test, Y_train, Y_test = train_test_split(feat,Y, test_size=0.3,random_state=4)",
      "execution_count": null,
      "outputs": []
    },
    {
      "metadata": {
        "trusted": true,
        "_uuid": "6f609caf996fd8a02c88c60b520e26fdecd03d04"
      },
      "cell_type": "code",
      "source": "params = {'objective':'regression',\n          'num_leaves' : 40,\n          'min_data_in_leaf' : 10,\n          'max_depth' : 6,\n          'learning_rate': 0.001,\n          \"metric\": 'rmse',\n          \"random_state\" : 42,\n          \"lambda_l2\" : 0.005,\n          \"verbosity\": -1}",
      "execution_count": null,
      "outputs": []
    },
    {
      "metadata": {
        "trusted": true,
        "_uuid": "af92b9f572b1b6c1d90b80ec90fdd918ec049400"
      },
      "cell_type": "code",
      "source": "test = pd.read_csv('../input/test.csv', parse_dates=[\"release_date\"])\n\ntest['year'] = test['release_date'].dt.year\ntest['month'] = test['release_date'].dt.month\ntest['release_dayofweek'] = test['release_date'].dt.dayofweek\ntest['release_quarter'] = test['release_date'].dt.quarter\ntest['year'].fillna(test['year'].mean(), inplace=True)\ntest['month'].fillna(test['month'].mean(), inplace=True)\ntest['release_dayofweek'].fillna(test['release_dayofweek'].mean(), inplace=True)\ntest['release_quarter'].fillna(test['release_quarter'].mean(), inplace=True)\ntest['belongs_to_collection'] = test['belongs_to_collection'].apply(lambda x: isinstance(x, str))\ntest['tagline'] = test['tagline'].apply(lambda x: isinstance(x, str))\ntest['homepage'] = test['homepage'].apply(lambda x: isinstance(x, str))\ntest['runtime'].fillna(test['runtime'].mean(), inplace=True)\ntest.loc[test['year'] > 2018, 'year'] = test.loc[test['year'] > 2018, 'year'].apply(lambda x: x - 100)\ntest['_budget_year_ratio'] = test['budget']/(test['year']*test['year'])\n\nX_t = test[feat_movie]\nX_t.shape",
      "execution_count": null,
      "outputs": []
    },
    {
      "metadata": {
        "trusted": true,
        "_uuid": "de377ede5004477c31fdbc04c4afa40d5370d8fc"
      },
      "cell_type": "code",
      "source": "import lightgbm as lgbm\n\nlgbm_train = lgbm.Dataset(X_train,Y_train)\nlgbm_eval = lgbm.Dataset(X_test,Y_test,reference = lgbm_train)\nprint(X_train.shape)\nprint(X_t.shape)",
      "execution_count": null,
      "outputs": []
    },
    {
      "metadata": {
        "trusted": true,
        "_uuid": "6176fb0fac1575c1f30952be75cd5e768c2eb43e"
      },
      "cell_type": "code",
      "source": "print(\"TRAINING: \")\n\ngbm = lgbm.train(params,lgbm_train,num_boost_round=3000,valid_sets = lgbm_eval,early_stopping_rounds=15)",
      "execution_count": null,
      "outputs": []
    },
    {
      "metadata": {
        "trusted": true
      },
      "cell_type": "code",
      "source": "X_t.head()",
      "execution_count": null,
      "outputs": []
    },
    {
      "metadata": {
        "trusted": true,
        "_uuid": "27dcb5a68b1810d7cdfb0f609e3593e8caa0d295"
      },
      "cell_type": "code",
      "source": "\ny_predictions = gbm.predict(X_t)\ny_predictions = (10 ** y_predictions)\nprint(\"\\n\",y_predictions)\nprint(y_predictions.shape)",
      "execution_count": null,
      "outputs": []
    },
    {
      "metadata": {
        "trusted": true,
        "_uuid": "d2790a62eb60f999df023932d33ca99b457872c2"
      },
      "cell_type": "code",
      "source": "#FOR LGBM\nsubmissions= pd.DataFrame({'id':test.id,'revenue':y_predictions},\n                         columns = ['id','revenue'])\n\nsubmissions.to_csv('submission.csv',index=False)\n",
      "execution_count": null,
      "outputs": []
    }
  ],
  "metadata": {
    "kernelspec": {
      "display_name": "Python 3",
      "language": "python",
      "name": "python3"
    },
    "language_info": {
      "name": "python",
      "version": "3.6.6",
      "mimetype": "text/x-python",
      "codemirror_mode": {
        "name": "ipython",
        "version": 3
      },
      "pygments_lexer": "ipython3",
      "nbconvert_exporter": "python",
      "file_extension": ".py"
    }
  },
  "nbformat": 4,
  "nbformat_minor": 1
}
